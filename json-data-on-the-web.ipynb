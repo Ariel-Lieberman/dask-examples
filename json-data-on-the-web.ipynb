{
 "cells": [
  {
   "cell_type": "markdown",
   "metadata": {},
   "source": [
    "Analyze web-hosted JSON data\n",
    "============================\n",
    "\n",
    "This notebook reads and processes JSON-encoded data hosted on the web using a combination of [Dask Bag](https://docs.dask.org/en/latest/bag.html) and [Dask Dataframe](https://docs.dask.org/en/latest/dataframe.html).\n",
    "\n",
    "This data comes from [mybinder.org](https://mybinder.org) a web service to run Jupyter notebooks live on the web (you may be running this notebook there now).  My Binder publishes records for every time someone launches a live notebook like this one, and stores that record in a publicly accessible JSON file, one file per day. "
   ]
  },
  {
   "cell_type": "markdown",
   "metadata": {},
   "source": [
    "## Introduction to the dataset\n",
    "\n",
    "This data is stored as JSON-encoded text files on the public web.  Here are some example lines."
   ]
  },
  {
   "cell_type": "code",
   "execution_count": 14,
   "metadata": {},
   "outputs": [
    {
     "data": {
      "text/plain": [
       "('{\"timestamp\": \"2018-11-03T00:00:00+00:00\", \"schema\": \"binderhub.jupyter.org/launch\", \"version\": 1, \"provider\": \"GitHub\", \"spec\": \"Qiskit/qiskit-tutorial/master\", \"status\": \"success\"}\\n',\n",
       " '{\"timestamp\": \"2018-11-03T00:00:00+00:00\", \"schema\": \"binderhub.jupyter.org/launch\", \"version\": 1, \"provider\": \"GitHub\", \"spec\": \"ipython/ipython-in-depth/master\", \"status\": \"success\"}\\n',\n",
       " '{\"timestamp\": \"2018-11-03T00:00:00+00:00\", \"schema\": \"binderhub.jupyter.org/launch\", \"version\": 1, \"provider\": \"GitHub\", \"spec\": \"QISKit/qiskit-tutorial/master\", \"status\": \"success\"}\\n')"
      ]
     },
     "execution_count": 14,
     "metadata": {},
     "output_type": "execute_result"
    }
   ],
   "source": [
    "import dask.bag as db\n",
    "db.read_text('https://archive.analytics.mybinder.org/events-2018-11-03.jsonl').take(3)"
   ]
  },
  {
   "cell_type": "markdown",
   "metadata": {},
   "source": [
    "We see that it includes one line for every time someone started a live notebook on the site.  It includes the time that the notebook was started, as well as the repository from which it was served.\n",
    "\n",
    "In this notebook we'll look at many such files, parse them from JSON to Python dictionaries, and then from there to Pandas dataframes.  We'll then do some simple analyses on this data."
   ]
  },
  {
   "cell_type": "markdown",
   "metadata": {},
   "source": [
    "## Start Dask Client for Dashboard\n",
    "\n",
    "Starting the Dask Client is optional.  It will start the dashboard which \n",
    "is useful to gain insight on the computation.  "
   ]
  },
  {
   "cell_type": "code",
   "execution_count": 1,
   "metadata": {},
   "outputs": [
    {
     "data": {
      "text/html": [
       "<table style=\"border: 2px solid white;\">\n",
       "<tr>\n",
       "<td style=\"vertical-align: top; border: 0px solid white\">\n",
       "<h3>Client</h3>\n",
       "<ul>\n",
       "  <li><b>Scheduler: </b>tcp://127.0.0.1:40417\n",
       "  <li><b>Dashboard: </b><a href='http://127.0.0.1:8787/status' target='_blank'>http://127.0.0.1:8787/status</a>\n",
       "</ul>\n",
       "</td>\n",
       "<td style=\"vertical-align: top; border: 0px solid white\">\n",
       "<h3>Cluster</h3>\n",
       "<ul>\n",
       "  <li><b>Workers: </b>4</li>\n",
       "  <li><b>Cores: </b>4</li>\n",
       "  <li><b>Memory: </b>8.00 GB</li>\n",
       "</ul>\n",
       "</td>\n",
       "</tr>\n",
       "</table>"
      ],
      "text/plain": [
       "<Client: scheduler='tcp://127.0.0.1:40417' processes=4 cores=4>"
      ]
     },
     "execution_count": 1,
     "metadata": {},
     "output_type": "execute_result"
    }
   ],
   "source": [
    "from dask.distributed import Client, progress\n",
    "client = Client(threads_per_worker=1, \n",
    "                n_workers=4,\n",
    "                memory_limit='2GB')\n",
    "client"
   ]
  },
  {
   "cell_type": "markdown",
   "metadata": {},
   "source": [
    "## Get a list of files on the web\n",
    "\n",
    "The mybinder.org team maintains an index file that points to all other available JSON files of data.  Lets convert this to a list of URLs that we'll read in the next section."
   ]
  },
  {
   "cell_type": "code",
   "execution_count": 2,
   "metadata": {},
   "outputs": [],
   "source": [
    "import dask.bag as db\n",
    "import json"
   ]
  },
  {
   "cell_type": "code",
   "execution_count": 3,
   "metadata": {},
   "outputs": [
    {
     "data": {
      "text/plain": [
       "[{'name': 'events-2018-11-03.jsonl', 'date': '2018-11-03', 'count': '7057'},\n",
       " {'name': 'events-2018-11-04.jsonl', 'date': '2018-11-04', 'count': '7489'},\n",
       " {'name': 'events-2018-11-05.jsonl', 'date': '2018-11-05', 'count': '13590'},\n",
       " {'name': 'events-2018-11-06.jsonl', 'date': '2018-11-06', 'count': '13920'},\n",
       " {'name': 'events-2018-11-07.jsonl', 'date': '2018-11-07', 'count': '12766'},\n",
       " {'name': 'events-2018-11-08.jsonl', 'date': '2018-11-08', 'count': '13666'}]"
      ]
     },
     "execution_count": 3,
     "metadata": {},
     "output_type": "execute_result"
    }
   ],
   "source": [
    "db.read_text('https://archive.analytics.mybinder.org/index.jsonl').map(json.loads).compute()"
   ]
  },
  {
   "cell_type": "code",
   "execution_count": 4,
   "metadata": {},
   "outputs": [
    {
     "data": {
      "text/plain": [
       "['https://archive.analytics.mybinder.org/events-2018-11-03.jsonl',\n",
       " 'https://archive.analytics.mybinder.org/events-2018-11-04.jsonl',\n",
       " 'https://archive.analytics.mybinder.org/events-2018-11-05.jsonl',\n",
       " 'https://archive.analytics.mybinder.org/events-2018-11-06.jsonl',\n",
       " 'https://archive.analytics.mybinder.org/events-2018-11-07.jsonl']"
      ]
     },
     "execution_count": 4,
     "metadata": {},
     "output_type": "execute_result"
    }
   ],
   "source": [
    "filenames = (db.read_text('https://archive.analytics.mybinder.org/index.jsonl')\n",
    "               .map(json.loads)\n",
    "               .pluck('name')\n",
    "               .compute())\n",
    "\n",
    "filenames = ['https://archive.analytics.mybinder.org/' + fn for fn in filenames]\n",
    "filenames[:5]"
   ]
  },
  {
   "cell_type": "markdown",
   "metadata": {},
   "source": [
    "## Create Bag of all events\n",
    "\n",
    "We now create a [Dask Bag](https://docs.dask.org/en/latest/bag.html) around that list of URLs, and then call the `json.loads` function on every line to turn those lines of JSON-encoded text into Python dictionaries that can be more easily manipulated."
   ]
  },
  {
   "cell_type": "code",
   "execution_count": 5,
   "metadata": {},
   "outputs": [
    {
     "data": {
      "text/plain": [
       "({'timestamp': '2018-11-03T00:00:00+00:00',\n",
       "  'schema': 'binderhub.jupyter.org/launch',\n",
       "  'version': 1,\n",
       "  'provider': 'GitHub',\n",
       "  'spec': 'Qiskit/qiskit-tutorial/master',\n",
       "  'status': 'success'},\n",
       " {'timestamp': '2018-11-03T00:00:00+00:00',\n",
       "  'schema': 'binderhub.jupyter.org/launch',\n",
       "  'version': 1,\n",
       "  'provider': 'GitHub',\n",
       "  'spec': 'ipython/ipython-in-depth/master',\n",
       "  'status': 'success'})"
      ]
     },
     "execution_count": 5,
     "metadata": {},
     "output_type": "execute_result"
    }
   ],
   "source": [
    "events = db.read_text(filenames).map(json.loads)\n",
    "events.take(2)"
   ]
  },
  {
   "cell_type": "markdown",
   "metadata": {},
   "source": [
    "## Most Popular Binders\n",
    "\n",
    "Lets do a simple frequency count to find those binders that are run the most often."
   ]
  },
  {
   "cell_type": "code",
   "execution_count": 6,
   "metadata": {},
   "outputs": [
    {
     "data": {
      "text/plain": [
       "(('ipython/ipython-in-depth/master', 32270),\n",
       " ('jupyterlab/jupyterlab-demo/master', 8013),\n",
       " ('ines/spacy-io-binder/live', 2798),\n",
       " ('binder-examples/r/master', 1765),\n",
       " ('bokeh/bokeh-notebooks/master', 1640),\n",
       " ('DS-100/textbook/master', 1239),\n",
       " ('mkozturk/CMPE140/master', 1037),\n",
       " ('rationalmatter/juno-demo-notebooks/master', 994),\n",
       " ('QuantStack/xeus-cling/stable', 977),\n",
       " ('marlohaering/SE1-Notebook/master', 841),\n",
       " ('RasaHQ/rasa_core/master', 635),\n",
       " ('binder-examples/julia-python/master', 555),\n",
       " ('QISKit/qiskit-tutorial/master', 554),\n",
       " ('quasiben/fiftyfizzbuzzes/master', 536),\n",
       " ('numba/numba-examples/master', 462),\n",
       " ('geoscixyz/gpgLabs/master', 370),\n",
       " ('nteract/examples/master', 347),\n",
       " ('dask/dask-examples/master', 347),\n",
       " ('data-8/textbook/gh-pages', 333),\n",
       " ('SoftmatterLMU-RaedlerGroup/notebooks_e3_ws1819/master', 329))"
      ]
     },
     "execution_count": 6,
     "metadata": {},
     "output_type": "execute_result"
    }
   ],
   "source": [
    "events.pluck('spec').frequencies(sort=True).take(20)"
   ]
  },
  {
   "cell_type": "markdown",
   "metadata": {},
   "source": [
    "## Convert to Dask Dataframe\n",
    "\n",
    "Finally, we can convert our bag of Python dictionaries into a [Dask Dataframe](https://docs.dask.org/en/latest/dataframe.html), and follow up with more Pandas-like computations.\n",
    "\n",
    "We'll do the same computation as above, now with Pandas syntax."
   ]
  },
  {
   "cell_type": "code",
   "execution_count": 7,
   "metadata": {},
   "outputs": [
    {
     "data": {
      "text/html": [
       "<div>\n",
       "<style scoped>\n",
       "    .dataframe tbody tr th:only-of-type {\n",
       "        vertical-align: middle;\n",
       "    }\n",
       "\n",
       "    .dataframe tbody tr th {\n",
       "        vertical-align: top;\n",
       "    }\n",
       "\n",
       "    .dataframe thead th {\n",
       "        text-align: right;\n",
       "    }\n",
       "</style>\n",
       "<table border=\"1\" class=\"dataframe\">\n",
       "  <thead>\n",
       "    <tr style=\"text-align: right;\">\n",
       "      <th></th>\n",
       "      <th>provider</th>\n",
       "      <th>schema</th>\n",
       "      <th>spec</th>\n",
       "      <th>status</th>\n",
       "      <th>timestamp</th>\n",
       "      <th>version</th>\n",
       "    </tr>\n",
       "  </thead>\n",
       "  <tbody>\n",
       "    <tr>\n",
       "      <th>0</th>\n",
       "      <td>GitHub</td>\n",
       "      <td>binderhub.jupyter.org/launch</td>\n",
       "      <td>Qiskit/qiskit-tutorial/master</td>\n",
       "      <td>success</td>\n",
       "      <td>2018-11-03T00:00:00+00:00</td>\n",
       "      <td>1</td>\n",
       "    </tr>\n",
       "    <tr>\n",
       "      <th>1</th>\n",
       "      <td>GitHub</td>\n",
       "      <td>binderhub.jupyter.org/launch</td>\n",
       "      <td>ipython/ipython-in-depth/master</td>\n",
       "      <td>success</td>\n",
       "      <td>2018-11-03T00:00:00+00:00</td>\n",
       "      <td>1</td>\n",
       "    </tr>\n",
       "    <tr>\n",
       "      <th>2</th>\n",
       "      <td>GitHub</td>\n",
       "      <td>binderhub.jupyter.org/launch</td>\n",
       "      <td>QISKit/qiskit-tutorial/master</td>\n",
       "      <td>success</td>\n",
       "      <td>2018-11-03T00:00:00+00:00</td>\n",
       "      <td>1</td>\n",
       "    </tr>\n",
       "    <tr>\n",
       "      <th>3</th>\n",
       "      <td>GitHub</td>\n",
       "      <td>binderhub.jupyter.org/launch</td>\n",
       "      <td>QISKit/qiskit-tutorial/master</td>\n",
       "      <td>success</td>\n",
       "      <td>2018-11-03T00:01:00+00:00</td>\n",
       "      <td>1</td>\n",
       "    </tr>\n",
       "    <tr>\n",
       "      <th>4</th>\n",
       "      <td>GitHub</td>\n",
       "      <td>binderhub.jupyter.org/launch</td>\n",
       "      <td>jupyterlab/jupyterlab-demo/master</td>\n",
       "      <td>success</td>\n",
       "      <td>2018-11-03T00:01:00+00:00</td>\n",
       "      <td>1</td>\n",
       "    </tr>\n",
       "  </tbody>\n",
       "</table>\n",
       "</div>"
      ],
      "text/plain": [
       "  provider                        schema                               spec  \\\n",
       "0   GitHub  binderhub.jupyter.org/launch      Qiskit/qiskit-tutorial/master   \n",
       "1   GitHub  binderhub.jupyter.org/launch    ipython/ipython-in-depth/master   \n",
       "2   GitHub  binderhub.jupyter.org/launch      QISKit/qiskit-tutorial/master   \n",
       "3   GitHub  binderhub.jupyter.org/launch      QISKit/qiskit-tutorial/master   \n",
       "4   GitHub  binderhub.jupyter.org/launch  jupyterlab/jupyterlab-demo/master   \n",
       "\n",
       "    status                  timestamp  version  \n",
       "0  success  2018-11-03T00:00:00+00:00        1  \n",
       "1  success  2018-11-03T00:00:00+00:00        1  \n",
       "2  success  2018-11-03T00:00:00+00:00        1  \n",
       "3  success  2018-11-03T00:01:00+00:00        1  \n",
       "4  success  2018-11-03T00:01:00+00:00        1  "
      ]
     },
     "execution_count": 7,
     "metadata": {},
     "output_type": "execute_result"
    }
   ],
   "source": [
    "df = events.to_dataframe()\n",
    "df.head()"
   ]
  },
  {
   "cell_type": "code",
   "execution_count": 15,
   "metadata": {},
   "outputs": [
    {
     "data": {
      "text/html": [
       "<div>\n",
       "<style scoped>\n",
       "    .dataframe tbody tr th:only-of-type {\n",
       "        vertical-align: middle;\n",
       "    }\n",
       "\n",
       "    .dataframe tbody tr th {\n",
       "        vertical-align: top;\n",
       "    }\n",
       "\n",
       "    .dataframe thead th {\n",
       "        text-align: right;\n",
       "    }\n",
       "</style>\n",
       "<table border=\"1\" class=\"dataframe\">\n",
       "  <thead>\n",
       "    <tr style=\"text-align: right;\">\n",
       "      <th></th>\n",
       "      <th>spec</th>\n",
       "    </tr>\n",
       "  </thead>\n",
       "  <tbody>\n",
       "    <tr>\n",
       "      <th>ipython/ipython-in-depth/master</th>\n",
       "      <td>32270</td>\n",
       "    </tr>\n",
       "    <tr>\n",
       "      <th>jupyterlab/jupyterlab-demo/master</th>\n",
       "      <td>8013</td>\n",
       "    </tr>\n",
       "    <tr>\n",
       "      <th>ines/spacy-io-binder/live</th>\n",
       "      <td>2798</td>\n",
       "    </tr>\n",
       "    <tr>\n",
       "      <th>binder-examples/r/master</th>\n",
       "      <td>1765</td>\n",
       "    </tr>\n",
       "    <tr>\n",
       "      <th>bokeh/bokeh-notebooks/master</th>\n",
       "      <td>1640</td>\n",
       "    </tr>\n",
       "    <tr>\n",
       "      <th>DS-100/textbook/master</th>\n",
       "      <td>1239</td>\n",
       "    </tr>\n",
       "    <tr>\n",
       "      <th>mkozturk/CMPE140/master</th>\n",
       "      <td>1037</td>\n",
       "    </tr>\n",
       "    <tr>\n",
       "      <th>rationalmatter/juno-demo-notebooks/master</th>\n",
       "      <td>994</td>\n",
       "    </tr>\n",
       "    <tr>\n",
       "      <th>QuantStack/xeus-cling/stable</th>\n",
       "      <td>977</td>\n",
       "    </tr>\n",
       "    <tr>\n",
       "      <th>marlohaering/SE1-Notebook/master</th>\n",
       "      <td>841</td>\n",
       "    </tr>\n",
       "    <tr>\n",
       "      <th>RasaHQ/rasa_core/master</th>\n",
       "      <td>635</td>\n",
       "    </tr>\n",
       "    <tr>\n",
       "      <th>binder-examples/julia-python/master</th>\n",
       "      <td>555</td>\n",
       "    </tr>\n",
       "    <tr>\n",
       "      <th>QISKit/qiskit-tutorial/master</th>\n",
       "      <td>554</td>\n",
       "    </tr>\n",
       "    <tr>\n",
       "      <th>quasiben/fiftyfizzbuzzes/master</th>\n",
       "      <td>536</td>\n",
       "    </tr>\n",
       "    <tr>\n",
       "      <th>numba/numba-examples/master</th>\n",
       "      <td>462</td>\n",
       "    </tr>\n",
       "    <tr>\n",
       "      <th>geoscixyz/gpgLabs/master</th>\n",
       "      <td>370</td>\n",
       "    </tr>\n",
       "    <tr>\n",
       "      <th>dask/dask-examples/master</th>\n",
       "      <td>347</td>\n",
       "    </tr>\n",
       "    <tr>\n",
       "      <th>nteract/examples/master</th>\n",
       "      <td>347</td>\n",
       "    </tr>\n",
       "    <tr>\n",
       "      <th>data-8/textbook/gh-pages</th>\n",
       "      <td>333</td>\n",
       "    </tr>\n",
       "    <tr>\n",
       "      <th>SoftmatterLMU-RaedlerGroup/notebooks_e3_ws1819/master</th>\n",
       "      <td>329</td>\n",
       "    </tr>\n",
       "  </tbody>\n",
       "</table>\n",
       "</div>"
      ],
      "text/plain": [
       "                                                     spec\n",
       "ipython/ipython-in-depth/master                     32270\n",
       "jupyterlab/jupyterlab-demo/master                    8013\n",
       "ines/spacy-io-binder/live                            2798\n",
       "binder-examples/r/master                             1765\n",
       "bokeh/bokeh-notebooks/master                         1640\n",
       "DS-100/textbook/master                               1239\n",
       "mkozturk/CMPE140/master                              1037\n",
       "rationalmatter/juno-demo-notebooks/master             994\n",
       "QuantStack/xeus-cling/stable                          977\n",
       "marlohaering/SE1-Notebook/master                      841\n",
       "RasaHQ/rasa_core/master                               635\n",
       "binder-examples/julia-python/master                   555\n",
       "QISKit/qiskit-tutorial/master                         554\n",
       "quasiben/fiftyfizzbuzzes/master                       536\n",
       "numba/numba-examples/master                           462\n",
       "geoscixyz/gpgLabs/master                              370\n",
       "dask/dask-examples/master                             347\n",
       "nteract/examples/master                               347\n",
       "data-8/textbook/gh-pages                              333\n",
       "SoftmatterLMU-RaedlerGroup/notebooks_e3_ws1819/...    329"
      ]
     },
     "execution_count": 15,
     "metadata": {},
     "output_type": "execute_result"
    }
   ],
   "source": [
    "df.spec.value_counts().nlargest(20).to_frame().compute()"
   ]
  },
  {
   "cell_type": "markdown",
   "metadata": {},
   "source": [
    "## Persist in memory\n",
    "\n",
    "This dataset fits nicely into memory. Lets avoid pulling from the cloud every time we do an operation and instead keep data local."
   ]
  },
  {
   "cell_type": "code",
   "execution_count": 8,
   "metadata": {},
   "outputs": [],
   "source": [
    "df = df.persist()"
   ]
  },
  {
   "cell_type": "markdown",
   "metadata": {},
   "source": [
    "Honestly, at this point it makes more sense to just switch to Pandas, but this is a Dask example, so we'll continue with Dask dataframe."
   ]
  },
  {
   "cell_type": "markdown",
   "metadata": {},
   "source": [
    "## Investigate providers other than Github\n",
    "\n",
    "Most binders are specified as git repositories on GitHub, but not all.  Lets investigate other providers."
   ]
  },
  {
   "cell_type": "code",
   "execution_count": 9,
   "metadata": {},
   "outputs": [],
   "source": [
    "import urllib"
   ]
  },
  {
   "cell_type": "code",
   "execution_count": 10,
   "metadata": {},
   "outputs": [
    {
     "data": {
      "text/plain": [
       "GitHub    68126\n",
       "GitLab      282\n",
       "Git          80\n",
       "Name: provider, dtype: int64"
      ]
     },
     "execution_count": 10,
     "metadata": {},
     "output_type": "execute_result"
    }
   ],
   "source": [
    "df.provider.value_counts().compute()"
   ]
  },
  {
   "cell_type": "code",
   "execution_count": 11,
   "metadata": {},
   "outputs": [
    {
     "data": {
      "text/html": [
       "<div>\n",
       "<style scoped>\n",
       "    .dataframe tbody tr th:only-of-type {\n",
       "        vertical-align: middle;\n",
       "    }\n",
       "\n",
       "    .dataframe tbody tr th {\n",
       "        vertical-align: top;\n",
       "    }\n",
       "\n",
       "    .dataframe thead th {\n",
       "        text-align: right;\n",
       "    }\n",
       "</style>\n",
       "<table border=\"1\" class=\"dataframe\">\n",
       "  <thead>\n",
       "    <tr style=\"text-align: right;\">\n",
       "      <th></th>\n",
       "      <th>spec</th>\n",
       "    </tr>\n",
       "  </thead>\n",
       "  <tbody>\n",
       "    <tr>\n",
       "      <th>rruizz/inforfis/master</th>\n",
       "      <td>61</td>\n",
       "    </tr>\n",
       "    <tr>\n",
       "      <th>dbernhard/JavaM2/master</th>\n",
       "      <td>61</td>\n",
       "    </tr>\n",
       "    <tr>\n",
       "      <th>dbernhard/PythonM1/master</th>\n",
       "      <td>38</td>\n",
       "    </tr>\n",
       "    <tr>\n",
       "      <th>PersonalDataIO/toronto-letter/master</th>\n",
       "      <td>37</td>\n",
       "    </tr>\n",
       "    <tr>\n",
       "      <th>clemej/data601-clemens-fall18/master</th>\n",
       "      <td>24</td>\n",
       "    </tr>\n",
       "    <tr>\n",
       "      <th>wichit2s/programmingfundamentals/master</th>\n",
       "      <td>13</td>\n",
       "    </tr>\n",
       "    <tr>\n",
       "      <th>tbalem/sml/master</th>\n",
       "      <td>12</td>\n",
       "    </tr>\n",
       "    <tr>\n",
       "      <th>jumson/sdr-lab-machines/master</th>\n",
       "      <td>7</td>\n",
       "    </tr>\n",
       "    <tr>\n",
       "      <th>PersonalDataIO/gdpr-rights-notebook/master</th>\n",
       "      <td>6</td>\n",
       "    </tr>\n",
       "    <tr>\n",
       "      <th>PersonalDataIO/uber-data/testing</th>\n",
       "      <td>5</td>\n",
       "    </tr>\n",
       "    <tr>\n",
       "      <th>DGothrek/ipyaggrid/binder-demo</th>\n",
       "      <td>4</td>\n",
       "    </tr>\n",
       "    <tr>\n",
       "      <th>wichit2s/csububooks/master</th>\n",
       "      <td>4</td>\n",
       "    </tr>\n",
       "    <tr>\n",
       "      <th>eferrante/dlmi-uba/master</th>\n",
       "      <td>3</td>\n",
       "    </tr>\n",
       "    <tr>\n",
       "      <th>open-scientist/python-express/master</th>\n",
       "      <td>2</td>\n",
       "    </tr>\n",
       "    <tr>\n",
       "      <th>wichit2s/pythonintro/master</th>\n",
       "      <td>1</td>\n",
       "    </tr>\n",
       "    <tr>\n",
       "      <th>ktiwari9/gaussian-process/master</th>\n",
       "      <td>1</td>\n",
       "    </tr>\n",
       "    <tr>\n",
       "      <th>sgmarkets/sgmarkets-api-notebooks/master</th>\n",
       "      <td>1</td>\n",
       "    </tr>\n",
       "    <tr>\n",
       "      <th>ssorcerer/reports/master</th>\n",
       "      <td>1</td>\n",
       "    </tr>\n",
       "    <tr>\n",
       "      <th>kitsunix/pyHIBP/pyHIBP-binder/master</th>\n",
       "      <td>1</td>\n",
       "    </tr>\n",
       "  </tbody>\n",
       "</table>\n",
       "</div>"
      ],
      "text/plain": [
       "                                            spec\n",
       "rruizz/inforfis/master                        61\n",
       "dbernhard/JavaM2/master                       61\n",
       "dbernhard/PythonM1/master                     38\n",
       "PersonalDataIO/toronto-letter/master          37\n",
       "clemej/data601-clemens-fall18/master          24\n",
       "wichit2s/programmingfundamentals/master       13\n",
       "tbalem/sml/master                             12\n",
       "jumson/sdr-lab-machines/master                 7\n",
       "PersonalDataIO/gdpr-rights-notebook/master     6\n",
       "PersonalDataIO/uber-data/testing               5\n",
       "DGothrek/ipyaggrid/binder-demo                 4\n",
       "wichit2s/csububooks/master                     4\n",
       "eferrante/dlmi-uba/master                      3\n",
       "open-scientist/python-express/master           2\n",
       "wichit2s/pythonintro/master                    1\n",
       "ktiwari9/gaussian-process/master               1\n",
       "sgmarkets/sgmarkets-api-notebooks/master       1\n",
       "ssorcerer/reports/master                       1\n",
       "kitsunix/pyHIBP/pyHIBP-binder/master           1"
      ]
     },
     "execution_count": 11,
     "metadata": {},
     "output_type": "execute_result"
    }
   ],
   "source": [
    "(df[df.provider == 'GitLab']\n",
    " .spec\n",
    " .map(urllib.parse.unquote, meta=('spec', object))\n",
    " .value_counts()\n",
    " .to_frame()\n",
    " .compute())"
   ]
  },
  {
   "cell_type": "code",
   "execution_count": 12,
   "metadata": {},
   "outputs": [
    {
     "data": {
      "text/html": [
       "<div>\n",
       "<style scoped>\n",
       "    .dataframe tbody tr th:only-of-type {\n",
       "        vertical-align: middle;\n",
       "    }\n",
       "\n",
       "    .dataframe tbody tr th {\n",
       "        vertical-align: top;\n",
       "    }\n",
       "\n",
       "    .dataframe thead th {\n",
       "        text-align: right;\n",
       "    }\n",
       "</style>\n",
       "<table border=\"1\" class=\"dataframe\">\n",
       "  <thead>\n",
       "    <tr style=\"text-align: right;\">\n",
       "      <th></th>\n",
       "      <th>spec</th>\n",
       "    </tr>\n",
       "  </thead>\n",
       "  <tbody>\n",
       "    <tr>\n",
       "      <th>https://bitbucket.org/gaur/1820/a4027afe0aa592d49f3989b2e9c8136c36322a77</th>\n",
       "      <td>31</td>\n",
       "    </tr>\n",
       "    <tr>\n",
       "      <th>https://collaborating.tuhh.de/cip3725/ib_base.git/0a1f4f66a1a3c29ff347b2abc79bb292b0be17ca</th>\n",
       "      <td>17</td>\n",
       "    </tr>\n",
       "    <tr>\n",
       "      <th>https://gitlab.oceantrack.org/otndc/acoustic-telemetry-analysis-workshop/ed80a18d3ba7e4a39716ef7255cc954ce022710f</th>\n",
       "      <td>7</td>\n",
       "    </tr>\n",
       "    <tr>\n",
       "      <th>https://gricad-gitlab.univ-grenoble-alpes.fr/nonsmooth/siconos-tutorial.git/b08a0514b22b3927b58bddce3c4018f27ac0fc7d</th>\n",
       "      <td>6</td>\n",
       "    </tr>\n",
       "    <tr>\n",
       "      <th>https://github.com/HAMID-ALI/Python3_programs/6b1af958ac574f9be5d43504e161a57c351425ea</th>\n",
       "      <td>4</td>\n",
       "    </tr>\n",
       "    <tr>\n",
       "      <th>https://gaur@bitbucket.org/gaur/1820.git/b455e5db47da15dc468083d830a08b7e460abbcd</th>\n",
       "      <td>4</td>\n",
       "    </tr>\n",
       "    <tr>\n",
       "      <th>https://opensource.ncsa.illinois.edu/bitbucket/scm/smm/smm-network-analysis.git/44acd332da1571acb412db803991e5f1dfc7a329</th>\n",
       "      <td>3</td>\n",
       "    </tr>\n",
       "    <tr>\n",
       "      <th>https://gitlab.mech.kuleuven.be/rob-expressiongraphs/docker/etasl-binder.git/127d6c9f33a938a98607505ef30237b5223000e4</th>\n",
       "      <td>3</td>\n",
       "    </tr>\n",
       "    <tr>\n",
       "      <th>https://opensource.ncsa.illinois.edu/bitbucket/scm/smm/smm-network-analysis.git/fdc417158238cfabed8ddec6e9a1de36eb2e469f</th>\n",
       "      <td>1</td>\n",
       "    </tr>\n",
       "    <tr>\n",
       "      <th>https://gricad-gitlab.univ-grenoble-alpes.fr/nonsmooth/siconos-tutorials.git/b7ce70e869084ff0c2f93c1be34a9dda8a513c44</th>\n",
       "      <td>1</td>\n",
       "    </tr>\n",
       "    <tr>\n",
       "      <th>https://gitlab.mech.kuleuven.be/rob-expressiongraphs/docker/etasl-binder.git/63596595694d466c4fb4a2c544042291f0a05a94</th>\n",
       "      <td>1</td>\n",
       "    </tr>\n",
       "    <tr>\n",
       "      <th>https://gitlab.gwdg.de/publications/NanoMAX18_JSR.git/48cbcc2390cf0fb8e85e8c8890ce693c6681d9fe</th>\n",
       "      <td>1</td>\n",
       "    </tr>\n",
       "    <tr>\n",
       "      <th>https://gitlab.com/uchicago-ime/python-programming-primer/435796a3e2e4956aa311caad51d4bad9925de6b4</th>\n",
       "      <td>1</td>\n",
       "    </tr>\n",
       "  </tbody>\n",
       "</table>\n",
       "</div>"
      ],
      "text/plain": [
       "                                                    spec\n",
       "https://bitbucket.org/gaur/1820/a4027afe0aa592d...    31\n",
       "https://collaborating.tuhh.de/cip3725/ib_base.g...    17\n",
       "https://gitlab.oceantrack.org/otndc/acoustic-te...     7\n",
       "https://gricad-gitlab.univ-grenoble-alpes.fr/no...     6\n",
       "https://github.com/HAMID-ALI/Python3_programs/6...     4\n",
       "https://gaur@bitbucket.org/gaur/1820.git/b455e5...     4\n",
       "https://opensource.ncsa.illinois.edu/bitbucket/...     3\n",
       "https://gitlab.mech.kuleuven.be/rob-expressiong...     3\n",
       "https://opensource.ncsa.illinois.edu/bitbucket/...     1\n",
       "https://gricad-gitlab.univ-grenoble-alpes.fr/no...     1\n",
       "https://gitlab.mech.kuleuven.be/rob-expressiong...     1\n",
       "https://gitlab.gwdg.de/publications/NanoMAX18_J...     1\n",
       "https://gitlab.com/uchicago-ime/python-programm...     1"
      ]
     },
     "execution_count": 12,
     "metadata": {},
     "output_type": "execute_result"
    }
   ],
   "source": [
    "(df[df.provider == 'Git']\n",
    " .spec\n",
    " .apply(urllib.parse.unquote, meta=('spec', object))\n",
    " .value_counts()\n",
    " .to_frame()\n",
    " .compute())"
   ]
  },
  {
   "cell_type": "code",
   "execution_count": null,
   "metadata": {},
   "outputs": [],
   "source": []
  }
 ],
 "metadata": {
  "kernelspec": {
   "display_name": "Python 3",
   "language": "python",
   "name": "python3"
  },
  "language_info": {
   "codemirror_mode": {
    "name": "ipython",
    "version": 3
   },
   "file_extension": ".py",
   "mimetype": "text/x-python",
   "name": "python",
   "nbconvert_exporter": "python",
   "pygments_lexer": "ipython3",
   "version": "3.6.4"
  }
 },
 "nbformat": 4,
 "nbformat_minor": 2
}
